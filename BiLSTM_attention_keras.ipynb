{
 "cells": [
  {
   "cell_type": "markdown",
   "metadata": {},
   "source": [
    "# KERAS, 시계열, BiLSTM, Attention - 181204\n",
    "https://tykimos.github.io/2017/09/09/Time-series_Numerical_Input_Numerical_Prediction_Model_Recipe/"
   ]
  },
  {
   "cell_type": "code",
   "execution_count": 1,
   "metadata": {},
   "outputs": [
    {
     "name": "stderr",
     "output_type": "stream",
     "text": [
      "Using TensorFlow backend.\n"
     ]
    }
   ],
   "source": [
    "import tensorflow as tf\n",
    "# 0. 사용할 패키지 불러오기\n",
    "import numpy as np\n",
    "from keras.models import Sequential\n",
    "from keras.layers import Dense, LSTM, Dropout\n",
    "from sklearn.preprocessing import MinMaxScaler\n",
    "import matplotlib.pyplot as plt\n",
    "%matplotlib inline"
   ]
  },
  {
   "cell_type": "code",
   "execution_count": 2,
   "metadata": {},
   "outputs": [],
   "source": [
    "import numpy as np\n",
    "import pandas as pd\n",
    "import pickle\n",
    "from collections import defaultdict\n",
    "import re\n",
    "\n",
    "from bs4 import BeautifulSoup\n",
    "\n",
    "import sys\n",
    "import os\n",
    "from nltk import tokenize\n",
    "\n",
    "from keras.preprocessing.text import Tokenizer, text_to_word_sequence\n",
    "from keras.preprocessing.sequence import pad_sequences\n",
    "from keras.utils.np_utils import to_categorical\n",
    "\n",
    "from keras.layers import Embedding, RepeatVector, Permute, Multiply, Lambda, BatchNormalization, LeakyReLU\n",
    "from keras.layers import Dense, Input, Flatten\n",
    "from keras.layers import Conv1D, MaxPooling1D, Embedding, merge, Dropout, LSTM, CuDNNLSTM, GRU, Bidirectional, TimeDistributed\n",
    "from keras.models import Model\n",
    "from keras.callbacks import EarlyStopping, LearningRateScheduler, Callback, ModelCheckpoint\n",
    "\n",
    "from keras.optimizers import Adam, Adadelta, SGD\n",
    "\n",
    "\n",
    "from keras import backend as K\n",
    "from keras.engine.topology import Layer, InputSpec\n",
    "from keras import initializers\n",
    "\n",
    "from tqdm import tqdm\n",
    "import math\n",
    "from matplotlib import pyplot as plt\n",
    "import seaborn as sn\n",
    "from colored import fg, bg, attr"
   ]
  },
  {
   "cell_type": "code",
   "execution_count": 3,
   "metadata": {},
   "outputs": [],
   "source": [
    "class AttentionLayer(Layer):\n",
    "    \"\"\"\n",
    "    Attention operation, with a context/query vector, for temporal data.\n",
    "    Supports Masking.\n",
    "    Follows the work of Yang et al. [https://www.cs.cmu.edu/~diyiy/docs/naacl16.pdf]\n",
    "    \"Hierarchical Attention Networks for Document Classification\"\n",
    "    by using a context vector to assist the attention\n",
    "    # Input shape\n",
    "        3D tensor with shape: `(samples, steps, features)`.\n",
    "    # Output shape\n",
    "        2D tensor with shape: `(samples, features)`.\n",
    "    How to use:\n",
    "    Just put it on top of an RNN Layer (GRU/LSTM/SimpleRNN) with return_sequences=True.\n",
    "    The dimensions are inferred based on the output shape of the RNN.\n",
    "    Note: The layer has been tested with Keras 2.0.6\n",
    "    Example:\n",
    "        model.add(LSTM(64, return_sequences=True))\n",
    "        model.add(AttentionWithContext())\n",
    "        # next add a Dense layer (for classification/regression) or whatever...\n",
    "    \"\"\"\n",
    "    def __init__(self, **kwargs):\n",
    "        self.init = initializers.get('glorot_uniform')\n",
    "        super(AttentionLayer, self).__init__(**kwargs)\n",
    "    \n",
    "    def build(self, input_shape):\n",
    "        assert len(input_shape) == 3\n",
    "        \n",
    "        self.W = self.add_weight(name='Attention_Weight',\n",
    "                                 shape=(input_shape[-1], input_shape[-1]),\n",
    "                                 initializer=self.init,\n",
    "                                 trainable=True)\n",
    "        self.b = self.add_weight(name='Attention_Bias',\n",
    "                                 shape=(input_shape[-1], ),\n",
    "                                 initializer=self.init,\n",
    "                                 trainable=True)\n",
    "        self.u = self.add_weight(name='Attention_Context_Vector',\n",
    "                                 shape=(input_shape[-1], 1),\n",
    "                                 initializer=self.init,\n",
    "                                 trainable=True)\n",
    "        super(AttentionLayer, self).build(input_shape)\n",
    "\n",
    "    def compute_mask(self, input, input_mask=None):\n",
    "        # do not pass the mask to the next layers\n",
    "        return None\n",
    "    \n",
    "    def call(self, x):\n",
    "        # refer to the original paper\n",
    "        # link: https://www.cs.cmu.edu/~hovy/papers/16HLT-hierarchical-attention-networks.pdf\n",
    "        \n",
    "        # RNN 구조를 거쳐서 나온 hidden states (x)에 single layer perceptron (tanh activation)\n",
    "        # 적용하여 나온 벡터가 uit \n",
    "        u_it = K.tanh(K.dot(x, self.W) + self.b)\n",
    "        \n",
    "        # uit와 uw (혹은 us) 간의 similarity를 attention으로 사용\n",
    "        # softmax를 통해 attention 값을 확률 분포로 만듬\n",
    "        a_it = K.dot(u_it, self.u)\n",
    "        a_it = K.squeeze(a_it, -1)\n",
    "        a_it = K.softmax(a_it)\n",
    "        \n",
    "        return a_it\n",
    "        \n",
    "    def compute_output_shape(self, input_shape):\n",
    "        return (input_shape[0], input_shape[1])"
   ]
  },
  {
   "cell_type": "code",
   "execution_count": 4,
   "metadata": {},
   "outputs": [],
   "source": [
    "def create_dataset(signal_data, look_back=1):\n",
    "    dataX, dataY = [], []\n",
    "    for i in range(len(signal_data)-look_back):\n",
    "        dataX.append(signal_data[i:(i+look_back), 0])\n",
    "        dataY.append(signal_data[i + look_back, 0])\n",
    "    return np.array(dataX), np.array(dataY)\n",
    "\n",
    "look_back = 40\n",
    "\n",
    "# 1. 데이터셋 생성하기\n",
    "signal_data = np.cos(np.arange(1600)*(20*np.pi/1000))[:,None]\n",
    "\n",
    "# 데이터 전처리\n",
    "scaler = MinMaxScaler(feature_range=(0, 1))\n",
    "signal_data = scaler.fit_transform(signal_data)\n",
    "\n",
    "# 데이터 분리\n",
    "train = signal_data[0:800]\n",
    "val = signal_data[800:1200]\n",
    "test = signal_data[1200:]\n",
    "\n",
    "# 데이터셋 생성\n",
    "x_train, y_train = create_dataset(train, look_back)\n",
    "x_val, y_val = create_dataset(val, look_back)\n",
    "x_test, y_test = create_dataset(test, look_back)\n",
    "\n",
    "# 데이터셋 전처리\n",
    "x_train = np.reshape(x_train, (x_train.shape[0], x_train.shape[1], 1))\n",
    "x_val = np.reshape(x_val, (x_val.shape[0], x_val.shape[1], 1))\n",
    "x_test = np.reshape(x_test, (x_test.shape[0], x_test.shape[1], 1))"
   ]
  },
  {
   "cell_type": "code",
   "execution_count": 19,
   "metadata": {
    "scrolled": true
   },
   "outputs": [
    {
     "name": "stdout",
     "output_type": "stream",
     "text": [
      "Tensor(\"attention_layer_4/Softmax:0\", shape=(?, 40), dtype=float32)\n",
      "Train on 760 samples, validate on 360 samples\n",
      "Epoch 1/10\n",
      "760/760 [==============================] - 2s 3ms/step - loss: 0.1749 - val_loss: 0.1301\n",
      "Epoch 2/10\n",
      "760/760 [==============================] - 1s 2ms/step - loss: 0.1213 - val_loss: 0.1149\n",
      "Epoch 3/10\n",
      "760/760 [==============================] - 1s 2ms/step - loss: 0.0944 - val_loss: 0.0675\n",
      "Epoch 4/10\n",
      "760/760 [==============================] - 1s 2ms/step - loss: 0.0251 - val_loss: 0.0061\n",
      "Epoch 5/10\n",
      "760/760 [==============================] - 1s 2ms/step - loss: 0.0035 - val_loss: 0.0012\n",
      "Epoch 6/10\n",
      "760/760 [==============================] - 1s 2ms/step - loss: 6.1331e-04 - val_loss: 3.7459e-04\n",
      "Epoch 7/10\n",
      "760/760 [==============================] - 1s 2ms/step - loss: 1.4554e-04 - val_loss: 7.3269e-05\n",
      "Epoch 8/10\n",
      "760/760 [==============================] - 1s 2ms/step - loss: 6.0771e-05 - val_loss: 4.3570e-05\n",
      "Epoch 9/10\n",
      "760/760 [==============================] - 1s 2ms/step - loss: 4.4625e-05 - val_loss: 4.2504e-05\n",
      "Epoch 10/10\n",
      "760/760 [==============================] - 1s 2ms/step - loss: 4.2591e-05 - val_loss: 3.0230e-05\n"
     ]
    }
   ],
   "source": [
    "lstm_dim = 50\n",
    "\n",
    "input_data = Input(shape=(40,1))\n",
    "bilstm = Bidirectional(LSTM(lstm_dim, return_sequences=True))(input_data)  # lstm입력은 (N, X, Y) 3차원이어여한다\n",
    "# bilstm = LSTM(2*lstm_dim, return_sequences=True)(input_data)  # lstm입력은 (N, X, Y) 3차원이어여한다\n",
    "# bilstm_output = Dense(1)(bilstm)\n",
    "\n",
    "attention_layer = AttentionLayer()(bilstm)\n",
    "print(attention_layer)\n",
    "\n",
    "repeated_word_attention = RepeatVector(lstm_dim * 2)(attention_layer)\n",
    "repeated_word_attention = Permute([2, 1])(repeated_word_attention)\n",
    "sentence_representation = Multiply()([bilstm, repeated_word_attention])\n",
    "sentence_representation = Lambda(lambda x: K.sum(x, axis=1))(sentence_representation)\n",
    "\n",
    "bilstm_output = Dense(1)(sentence_representation)\n",
    "\n",
    "model = Model(inputs=[input_data],\n",
    "            outputs=[bilstm_output])\n",
    "# 3. 모델 학습과정 설정하기\n",
    "model.compile(loss='mean_squared_error', optimizer='adam')\n",
    "\n",
    "hist = model.fit(x_train, y_train, epochs=10, batch_size=32, validation_data=(x_val, y_val))"
   ]
  },
  {
   "cell_type": "code",
   "execution_count": 20,
   "metadata": {},
   "outputs": [
    {
     "name": "stdout",
     "output_type": "stream",
     "text": [
      "__________________________________________________________________________________________________\n",
      "Layer (type)                    Output Shape         Param #     Connected to                     \n",
      "==================================================================================================\n",
      "input_4 (InputLayer)            (None, 40, 1)        0                                            \n",
      "__________________________________________________________________________________________________\n",
      "lstm_4 (LSTM)                   (None, 40, 100)      40800       input_4[0][0]                    \n",
      "__________________________________________________________________________________________________\n",
      "attention_layer_4 (AttentionLay (None, 40)           10200       lstm_4[0][0]                     \n",
      "__________________________________________________________________________________________________\n",
      "repeat_vector_4 (RepeatVector)  (None, 100, 40)      0           attention_layer_4[0][0]          \n",
      "__________________________________________________________________________________________________\n",
      "permute_4 (Permute)             (None, 40, 100)      0           repeat_vector_4[0][0]            \n",
      "__________________________________________________________________________________________________\n",
      "multiply_4 (Multiply)           (None, 40, 100)      0           lstm_4[0][0]                     \n",
      "                                                                 permute_4[0][0]                  \n",
      "__________________________________________________________________________________________________\n",
      "lambda_3 (Lambda)               (None, 100)          0           multiply_4[0][0]                 \n",
      "__________________________________________________________________________________________________\n",
      "dense_3 (Dense)                 (None, 1)            101         lambda_3[0][0]                   \n",
      "==================================================================================================\n",
      "Total params: 51,101\n",
      "Trainable params: 51,101\n",
      "Non-trainable params: 0\n",
      "__________________________________________________________________________________________________\n"
     ]
    }
   ],
   "source": [
    "model.summary()"
   ]
  },
  {
   "cell_type": "code",
   "execution_count": 21,
   "metadata": {},
   "outputs": [
    {
     "data": {
      "image/png": "[encoded data removed]",
      "text/plain": [
       "<Figure size 432x288 with 1 Axes>"
      ]
     },
     "metadata": {
      "needs_background": "light"
     },
     "output_type": "display_data"
    },
    {
     "name": "stdout",
     "output_type": "stream",
     "text": [
      "Train Score:  3.050595018736969e-05\n",
      "Validataion Score:  3.0229520780267195e-05\n",
      "Test Score:  3.0229520780267195e-05\n"
     ]
    }
   ],
   "source": [
    "# 5. 학습과정 살펴보기\n",
    "plt.plot(hist.history['loss'])\n",
    "plt.plot(hist.history['val_loss'])\n",
    "plt.ylim(0.0, 0.15)\n",
    "plt.ylabel('loss')\n",
    "plt.xlabel('epoch')\n",
    "plt.legend(['train', 'val'], loc='upper left')\n",
    "plt.show()\n",
    "\n",
    "# 6. 모델 평가하기\n",
    "trainScore = model.evaluate(x_train, y_train, verbose=0)\n",
    "model.reset_states()\n",
    "print('Train Score: ', trainScore)\n",
    "valScore = model.evaluate(x_val, y_val, verbose=0)\n",
    "model.reset_states()\n",
    "print('Validataion Score: ', valScore)\n",
    "testScore = model.evaluate(x_test, y_test, verbose=0)\n",
    "model.reset_states()\n",
    "print('Test Score: ', testScore)"
   ]
  },
  {
   "cell_type": "code",
   "execution_count": 22,
   "metadata": {},
   "outputs": [
    {
     "data": {
      "image/png": "[encoded data removed]",
      "text/plain": [
       "<Figure size 864x360 with 1 Axes>"
      ]
     },
     "metadata": {
      "needs_background": "light"
     },
     "output_type": "display_data"
    }
   ],
   "source": [
    "# 7. 모델 사용하기\n",
    "look_ahead = 250\n",
    "xhat = x_test[0]\n",
    "predictions = np.zeros((look_ahead,1))\n",
    "for i in range(look_ahead):\n",
    "    prediction = model.predict(np.array([xhat]), batch_size=1)\n",
    "    predictions[i] = prediction\n",
    "    xhat = np.vstack([xhat[1:],prediction])\n",
    "    \n",
    "plt.figure(figsize=(12,5))\n",
    "plt.plot(np.arange(look_ahead),predictions,'r',label=\"prediction\")\n",
    "plt.plot(np.arange(look_ahead),y_test[:look_ahead],label=\"test function\")\n",
    "plt.legend()\n",
    "plt.show()"
   ]
  },
  {
   "cell_type": "markdown",
   "metadata": {},
   "source": [
    "# Attention visualize"
   ]
  },
  {
   "cell_type": "code",
   "execution_count": 23,
   "metadata": {},
   "outputs": [],
   "source": [
    "# Attention check\n",
    "# 위의 attention layer 부분을 output으로\n",
    "attention_extractor = Model(inputs=[input_data],\n",
    "                             outputs=[attention_layer])  \n",
    "# (N, 40)\n",
    "attention_expamle = attention_extractor.predict(x_test)"
   ]
  },
  {
   "cell_type": "code",
   "execution_count": 24,
   "metadata": {},
   "outputs": [
    {
     "name": "stdout",
     "output_type": "stream",
     "text": [
      "[1.2864340e-06 2.3297710e-06 3.6501749e-06 5.2106298e-06 7.0482333e-06\n",
      " 9.2856208e-06 1.2130141e-05 1.5883727e-05 2.0971740e-05 2.7994298e-05\n",
      " 3.7804832e-05 5.1625346e-05 7.1212780e-05 9.9099823e-05 1.3893853e-04\n",
      " 1.9599240e-04 2.7782962e-04 3.9529527e-04 5.6384178e-04 8.0532866e-04\n",
      " 1.1503776e-03 1.6413693e-03 2.3360685e-03 3.3117542e-03 4.6695205e-03\n",
      " 6.5380782e-03 9.0760719e-03 1.2471545e-02 1.6937118e-02 2.2699282e-02\n",
      " 2.9981662e-02 3.8981959e-02 4.9845852e-02 6.2640250e-02 7.7332310e-02\n",
      " 9.3777388e-02 1.1171997e-01 1.3080847e-01 1.5062439e-01 1.7071383e-01]\n"
     ]
    },
    {
     "data": {
      "text/plain": [
       "<BarContainer object of 40 artists>"
      ]
     },
     "execution_count": 24,
     "metadata": {},
     "output_type": "execute_result"
    },
    {
     "data": {
      "image/png": "[encoded data removed]",
      "text/plain": [
       "<Figure size 432x288 with 1 Axes>"
      ]
     },
     "metadata": {
      "needs_background": "light"
     },
     "output_type": "display_data"
    }
   ],
   "source": [
    "print(attention_expamle[0])\n",
    "\n",
    "plt.bar(np.arange(attention_expamle.shape[1]), attention_expamle[2])"
   ]
  },
  {
   "cell_type": "code",
   "execution_count": null,
   "metadata": {},
   "outputs": [],
   "source": []
  },
  {
   "cell_type": "code",
   "execution_count": null,
   "metadata": {},
   "outputs": [],
   "source": []
  },
  {
   "cell_type": "code",
   "execution_count": null,
   "metadata": {},
   "outputs": [],
   "source": []
  },
  {
   "cell_type": "code",
   "execution_count": null,
   "metadata": {},
   "outputs": [],
   "source": []
  },
  {
   "cell_type": "code",
   "execution_count": null,
   "metadata": {},
   "outputs": [],
   "source": []
  }
 ],
 "metadata": {
  "kernelspec": {
   "display_name": "Python 3",
   "language": "python",
   "name": "python3"
  },
  "language_info": {
   "codemirror_mode": {
    "name": "ipython",
    "version": 3
   },
   "file_extension": ".py",
   "mimetype": "text/x-python",
   "name": "python",
   "nbconvert_exporter": "python",
   "pygments_lexer": "ipython3",
   "version": "3.6.6"
  }
 },
 "nbformat": 4,
 "nbformat_minor": 2
}
